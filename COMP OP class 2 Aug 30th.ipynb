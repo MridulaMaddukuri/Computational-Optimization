{
 "cells": [
  {
   "cell_type": "code",
   "execution_count": 1,
   "metadata": {
    "collapsed": false
   },
   "outputs": [
    {
     "name": "stdout",
     "output_type": "stream",
     "text": [
      "set([1, 2, 3, 4, 5])\n"
     ]
    }
   ],
   "source": [
    "a_set = set ([1,2,3,3,4,4,5]) # no order , no repitition\n",
    "print a_set"
   ]
  },
  {
   "cell_type": "code",
   "execution_count": 4,
   "metadata": {
    "collapsed": false
   },
   "outputs": [
    {
     "name": "stdout",
     "output_type": "stream",
     "text": [
      "[1, 2, 3, 'hello']\n",
      "(1, 2, 3, 'hello')\n",
      "2473311737894765252\n"
     ]
    }
   ],
   "source": [
    "a_list = [1,2,3, \"hello\"]\n",
    "a_tuple = (1,2,3,\"hello\")\n",
    "print a_list\n",
    "print a_tuple\n",
    "print hash(a_tuple) # tuple can be passed through hash funtion\n",
    "### WHAT IS HASH FUNCTION"
   ]
  },
  {
   "cell_type": "code",
   "execution_count": 6,
   "metadata": {
    "collapsed": false
   },
   "outputs": [
    {
     "name": "stdout",
     "output_type": "stream",
     "text": [
      "[1, 7, 3, 'hello']\n"
     ]
    }
   ],
   "source": [
    "b_list = a_list # no copy happens here # to create a copy, I have to go though a lot of operations scanning through the whole array using a lot of memory\n",
    "# instead it just uses the same key to access the object in question\n",
    "b_list[1] =7 \n",
    "print a_list\n"
   ]
  },
  {
   "cell_type": "code",
   "execution_count": 9,
   "metadata": {
    "collapsed": false
   },
   "outputs": [
    {
     "name": "stdout",
     "output_type": "stream",
     "text": [
      "1\n",
      "7\n",
      "3\n",
      "hello\n",
      "Yo\n",
      "2\n",
      "3\n"
     ]
    }
   ],
   "source": [
    "# BASIC PYTHON SYNTAX\n",
    "# tuples, lists, dictionaries etc are iterable: can use for loops\n",
    "\n",
    "for i in a_list:\n",
    "    print i\n",
    "    if i == \"hello\":\n",
    "        print \"Yo\"\n",
    "        \n",
    "for i in range(2):\n",
    "    print i+2"
   ]
  },
  {
   "cell_type": "code",
   "execution_count": 10,
   "metadata": {
    "collapsed": false
   },
   "outputs": [
    {
     "name": "stdout",
     "output_type": "stream",
     "text": [
      "9\n"
     ]
    }
   ],
   "source": [
    "a,b = 4,5\n",
    "print a +b"
   ]
  },
  {
   "cell_type": "code",
   "execution_count": 11,
   "metadata": {
    "collapsed": false
   },
   "outputs": [
    {
     "data": {
      "text/plain": [
       "[(0, 'mridula'), (1, 'akhila')]"
      ]
     },
     "execution_count": 11,
     "metadata": {},
     "output_type": "execute_result"
    }
   ],
   "source": [
    "print enumerate([\"mridula\",\"akhila\"])\n",
    "list(enumerate([\"mridula\",\"akhila\"]))\n",
    "for index,name in enumerate([\"mridula\",\"akhila\"]):\n",
    "    print index,name"
   ]
  },
  {
   "cell_type": "code",
   "execution_count": 24,
   "metadata": {
    "collapsed": false
   },
   "outputs": [
    {
     "name": "stdout",
     "output_type": "stream",
     "text": [
      "[('ned', 1, 7.0), ('joe', 2, 8.8), ('jill', 3, 9.2)]\n",
      "8.0\n",
      "10.8\n",
      "12.2\n"
     ]
    },
    {
     "data": {
      "text/plain": [
       "[('a', 'b'), (1, 2), ('hello', 'world')]"
      ]
     },
     "execution_count": 24,
     "metadata": {},
     "output_type": "execute_result"
    }
   ],
   "source": [
    "# ZIP allows us to mix lists together or tear them apart\n",
    "list1 = ['ned','joe','jill']\n",
    "list2 = [1,2,3]\n",
    "list3 = [7.0,8.8,9.2]\n",
    "print zip(list1,list2,list3)\n",
    "#you can do this with any number of lists\n",
    "\n",
    "for i,j,k in zip(list1,list2,list3):\n",
    "    print j +k\n",
    "    # the above code avoided 3 lists\n",
    "    \n",
    "zipped_list =[['a',1,'hello'],['b',2,'world']]\n",
    "zip(*zipped_list)"
   ]
  },
  {
   "cell_type": "code",
   "execution_count": 20,
   "metadata": {
    "collapsed": false
   },
   "outputs": [
    {
     "name": "stdout",
     "output_type": "stream",
     "text": [
      "12\n",
      "5\n",
      "1\n"
     ]
    }
   ],
   "source": [
    "# FUNCTIONS BASICS\n",
    "def addTwoNumbers(x=0,y=0):\n",
    "    return x+y\n",
    "print addTwoNumbers(5,7)\n",
    "print addTwoNumbers(y=5) # default y value is 0\n",
    "# print addTwoNumbers(x=3,c=5) # throws error since c is undefined\n",
    "\n"
   ]
  },
  {
   "cell_type": "code",
   "execution_count": 22,
   "metadata": {
    "collapsed": false
   },
   "outputs": [
    {
     "name": "stdout",
     "output_type": "stream",
     "text": [
      "28\n",
      "6\n"
     ]
    }
   ],
   "source": [
    "# WHAT IF I WANT TO ADD MANY NUMBERS\n",
    "def addManyNumbers( *args):\n",
    "    ans = 0\n",
    "    for i in args:\n",
    "        ans = ans + i\n",
    "    return ans\n",
    "\n",
    "print addManyNumbers(1,2,3,4,5,6,7)\n",
    "# print addManyNumbers(\"hello\",\"hi\") # throws error because ans = 0 -- integer\n",
    "# print addManyNumbers([1,2,3]) # can't add list to int - 0\n",
    "print addManyNumbers(*[1,2,3]) # * pulls out elements of list and adds them"
   ]
  },
  {
   "cell_type": "code",
   "execution_count": 25,
   "metadata": {
    "collapsed": false
   },
   "outputs": [
    {
     "name": "stdout",
     "output_type": "stream",
     "text": [
      "Argument name <abc> and value <ABC> \n",
      "Argument name <deg> and value <DEG> \n"
     ]
    }
   ],
   "source": [
    "def printKWargs(**kwargs): # this packs the keyword arguments into a dictionary called kwargs\n",
    "    for key,value in kwargs.iteritems():\n",
    "        print 'Argument name <%s> and value <%s> '%(str(key),str(value))\n",
    "        \n",
    "printKWargs(abc = \"ABC\", deg = \"DEG\")\n",
    "# * is for lists ; ** is for dictionaries\n"
   ]
  },
  {
   "cell_type": "code",
   "execution_count": 28,
   "metadata": {
    "collapsed": false
   },
   "outputs": [],
   "source": [
    "#########################\n",
    "# CLASS BASICS\n",
    "#########################\n",
    "\n",
    "# A class groups together some data and actions on it \n",
    "# let's create a class : Mazda\n",
    "# It'll have 3 piecs of data: max_speed, color, and current speed\n",
    "# we will also have some actions that operate on those pieces of data\n",
    "\n",
    "class Mazda(object):\n",
    "    \n",
    "    def __init__(self,max_speed =100, color = 'red', current_speed =0):\n",
    "        \n",
    "        self.max_speed = max_speed\n",
    "        self.color = color\n",
    "        self.current_speed = current_speed\n",
    "        \n",
    "A = Mazda()\n",
    "B = Mazda(max_speed = 160)\n",
    "\n",
    "## What if we want to make a turbo-charged mazda, that works pretty much same way \n",
    "# but by default i want it to have a larger max speed"
   ]
  },
  {
   "cell_type": "code",
   "execution_count": 29,
   "metadata": {
    "collapsed": false
   },
   "outputs": [
    {
     "name": "stdout",
     "output_type": "stream",
     "text": [
      "[(1, 2), (1, 3), (2, 3)]\n"
     ]
    }
   ],
   "source": [
    "#############\n",
    "# Modules\n",
    "#############\n",
    "# https://docs.python.org/2/library/itertools.html\n",
    "# follow the url above for itertools: ned\n",
    "\n",
    "import itertools\n",
    "print list(itertools.combinations([1,2,3],2)) # n choose k "
   ]
  },
  {
   "cell_type": "code",
   "execution_count": 30,
   "metadata": {
    "collapsed": false
   },
   "outputs": [
    {
     "name": "stdout",
     "output_type": "stream",
     "text": [
      "['', '/Users/mridulamaddukuri/Library/Enthought/Canopy_64bit/User/lib/python2.7/site-packages/numpy-1.11.0-py2.7-macosx-10.6-x86_64.egg', '/Users/mridulamaddukuri/Library/Enthought/Canopy_64bit/User/lib/python2.7/site-packages/xgboost-0.4-py2.7.egg', '/Applications/Canopy.app/appdata/canopy-1.6.2.3262.macosx-x86_64/Canopy.app/Contents/lib/python27.zip', '/Applications/Canopy.app/appdata/canopy-1.6.2.3262.macosx-x86_64/Canopy.app/Contents/lib/python2.7', '/Applications/Canopy.app/appdata/canopy-1.6.2.3262.macosx-x86_64/Canopy.app/Contents/lib/python2.7/plat-darwin', '/Applications/Canopy.app/appdata/canopy-1.6.2.3262.macosx-x86_64/Canopy.app/Contents/lib/python2.7/plat-mac', '/Applications/Canopy.app/appdata/canopy-1.6.2.3262.macosx-x86_64/Canopy.app/Contents/lib/python2.7/plat-mac/lib-scriptpackages', '/Applications/Canopy.app/appdata/canopy-1.6.2.3262.macosx-x86_64/Canopy.app/Contents/lib/python2.7/lib-tk', '/Applications/Canopy.app/appdata/canopy-1.6.2.3262.macosx-x86_64/Canopy.app/Contents/lib/python2.7/lib-old', '/Applications/Canopy.app/appdata/canopy-1.6.2.3262.macosx-x86_64/Canopy.app/Contents/lib/python2.7/lib-dynload', '/Users/mridulamaddukuri/Library/Enthought/Canopy_64bit/User/lib/python2.7/site-packages', '/Applications/Canopy.app/appdata/canopy-1.6.2.3262.macosx-x86_64/Canopy.app/Contents/lib/python2.7/site-packages', '/Users/mridulamaddukuri/Library/Enthought/Canopy_64bit/User/lib/python2.7/site-packages/IPython/extensions', '/Users/mridulamaddukuri/.ipython']\n"
     ]
    }
   ],
   "source": [
    "# Create your own module by placing a .py file inside a directory\n",
    "# for ex, create a directory called my_module\n",
    "# in it, put an empty __init__.py file\n",
    "# and a file with the Mazda objects above\n",
    "\n",
    "# Make sure that the directory above the my_odule is in the PYTHON_PATH variable, then you can do things like\n",
    "\n",
    "# import my_module \n",
    "\n",
    "import sys\n",
    "print sys.path"
   ]
  },
  {
   "cell_type": "code",
   "execution_count": 36,
   "metadata": {
    "collapsed": false
   },
   "outputs": [
    {
     "name": "stdout",
     "output_type": "stream",
     "text": [
      "[[ 1.  0.  0.]\n",
      " [ 0.  1.  0.]\n",
      " [ 0.  0.  1.]]\n",
      "[ 0.  1.  2.  3.  4.  5.  6.  7.  8.  9.]\n",
      "[[ 2.  2.  2.]\n",
      " [ 2.  2.  2.]\n",
      " [ 2.  2.  2.]]\n",
      "[[ 1.  1.  1.]\n",
      " [ 1.  1.  1.]\n",
      " [ 1.  1.  1.]]\n",
      "[[ 3.  3.  3.]\n",
      " [ 3.  3.  3.]\n",
      " [ 3.  3.  3.]]\n"
     ]
    }
   ],
   "source": [
    "#########################\n",
    "# SCIPY and PYLAB\n",
    "\n",
    "import scipy\n",
    "import pylab # pylab is an interactive version of matplotlib; you can also import matplotlib\n",
    "\n",
    "# Arrays are different than list because they contain only a single data type *****\n",
    "\n",
    "# scipy/numpy provide basic array operations\n",
    "\n",
    "a_zero = scipy.zeros((3,3))\n",
    "a_ones = scipy.ones((3,3))\n",
    "a_I = scipy.eye(3) # similar to matlab because they both use the same C base\n",
    "\n",
    "print a_I\n",
    "count = scipy.arange(10,dtype = float)\n",
    "print count\n",
    "\n",
    "print a_ones + a_ones\n",
    "print a_ones * a_ones # elementwise multiplication\n",
    "print a_ones.dot(a_ones) # a_one is an array object so it has many operations associated with it \n",
    "\n",
    "# https://docs.scipy.org/doc/numpy-dev/user/numpy-for-matlab-users.html \n",
    "# useful links to do"
   ]
  },
  {
   "cell_type": "code",
   "execution_count": null,
   "metadata": {
    "collapsed": true
   },
   "outputs": [],
   "source": []
  }
 ],
 "metadata": {
  "kernelspec": {
   "display_name": "Python 2",
   "language": "python",
   "name": "python2"
  },
  "language_info": {
   "codemirror_mode": {
    "name": "ipython",
    "version": 2
   },
   "file_extension": ".py",
   "mimetype": "text/x-python",
   "name": "python",
   "nbconvert_exporter": "python",
   "pygments_lexer": "ipython2",
   "version": "2.7.10"
  }
 },
 "nbformat": 4,
 "nbformat_minor": 0
}
