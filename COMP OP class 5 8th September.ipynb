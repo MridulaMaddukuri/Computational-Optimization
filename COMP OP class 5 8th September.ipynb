{
 "cells": [
  {
   "cell_type": "code",
   "execution_count": null,
   "metadata": {
    "collapsed": true
   },
   "outputs": [],
   "source": [
    "# Go over HW1\n",
    "import pdb # python debugger\n",
    "import matplotlib.pylab # some modules need to be explicitly imported\n",
    "# When you import scipy, it imports numpy automatically"
   ]
  },
  {
   "cell_type": "code",
   "execution_count": null,
   "metadata": {
    "collapsed": true
   },
   "outputs": [],
   "source": [
    "# organizing code and scipy \n",
    "\n",
    "# what's a stack frame computer science"
   ]
  },
  {
   "cell_type": "code",
   "execution_count": null,
   "metadata": {
    "collapsed": true
   },
   "outputs": [],
   "source": [
    "# Python debugger and profiler\n",
    "# how to use debugger\n",
    "# using u and d we can go up or down the memory\n",
    "\n",
    "# look up python profiler :cProfile and profile. cProfile is faster, so use that\n",
    "# pstats is a module that allows you to print out a statistics summary for different functions in different ways\n",
    "# p.sort_stats('cumtime').print_stats(10)\n",
    "# broadcasting in python can save a lot of time\n",
    "\n",
    "#snakeviz ??"
   ]
  },
  {
   "cell_type": "code",
   "execution_count": null,
   "metadata": {
    "collapsed": true
   },
   "outputs": [],
   "source": [
    "\n"
   ]
  }
 ],
 "metadata": {
  "kernelspec": {
   "display_name": "Python 2",
   "language": "python",
   "name": "python2"
  },
  "language_info": {
   "codemirror_mode": {
    "name": "ipython",
    "version": 2
   },
   "file_extension": ".py",
   "mimetype": "text/x-python",
   "name": "python",
   "nbconvert_exporter": "python",
   "pygments_lexer": "ipython2",
   "version": "2.7.10"
  }
 },
 "nbformat": 4,
 "nbformat_minor": 0
}
