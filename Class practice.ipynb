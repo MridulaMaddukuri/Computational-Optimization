{
 "cells": [
  {
   "cell_type": "markdown",
   "metadata": {},
   "source": [
    "https://en.wikibooks.org/wiki/A_Beginner%27s_Python_Tutorial/Classes"
   ]
  },
  {
   "cell_type": "code",
   "execution_count": 1,
   "metadata": {
    "collapsed": false
   },
   "outputs": [
    {
     "data": {
      "text/plain": [
       "'What you have created is a description of a shape (That is, the variables) \\nand what operations you can do with the shape (That is, the functions).\\nThis is very important - you have not made an actual shape, simply the description of what a shape is.\\nThe shape has a width (x), a height (y), and an area and perimeter (area(self) and perimeter(self)). \\nNo code is run when you define a class - you are simply making functions and variables'"
      ]
     },
     "execution_count": 1,
     "metadata": {},
     "output_type": "execute_result"
    }
   ],
   "source": [
    "class Shape:\n",
    "    \n",
    "\n",
    "    def __init__(self, x, y):\n",
    "        self.x = x\n",
    "        self.y = y\n",
    "        self.description = \"This shape has not been described yet\"\n",
    "        self.author = \"Nobody has claimed to make this shape yet\"\n",
    "\n",
    "        \"\"\"The function called __init__ is run when we create an instance of Shape - that is, \n",
    "when we create an actual shape, as opposed to the 'blueprint' we have here, __init__ is run. \n",
    "\"\"\"\n",
    "        \"\"\"self is how we refer to things in the class from within itself. \n",
    "        self is the first parameter in any function defined inside a class.\"\"\"\n",
    "    def area(self):\n",
    "        return self.x * self.y\n",
    "\n",
    "    def perimeter(self):\n",
    "        return 2 * self.x + 2 * self.y\n",
    "\n",
    "    def describe(self, text):\n",
    "        self.description = text\n",
    "\n",
    "    def authorName(self, text):\n",
    "        self.author = text\n",
    "\n",
    "    def scaleSize(self, scale):\n",
    "        self.x = self.x * scale\n",
    "        self.y = self.y * scale\n",
    "\"\"\"What you have created is a description of a shape (That is, the variables) \n",
    "and what operations you can do with the shape (That is, the functions).\n",
    "This is very important - you have not made an actual shape, simply the description of what a shape is.\n",
    "The shape has a width (x), a height (y), and an area and perimeter (area(self) and perimeter(self)). \n",
    "No code is run when you define a class - you are simply making functions and variables\"\"\"    "
   ]
  },
  {
   "cell_type": "code",
   "execution_count": 8,
   "metadata": {
    "collapsed": false
   },
   "outputs": [
    {
     "data": {
      "text/plain": [
       "4500"
      ]
     },
     "execution_count": 8,
     "metadata": {},
     "output_type": "execute_result"
    }
   ],
   "source": [
    "rectangle = Shape(100, 45)\n",
    "rectangle.area()"
   ]
  },
  {
   "cell_type": "code",
   "execution_count": 10,
   "metadata": {
    "collapsed": false
   },
   "outputs": [],
   "source": [
    "rectangle.scaleSize(2)"
   ]
  },
  {
   "cell_type": "code",
   "execution_count": 11,
   "metadata": {
    "collapsed": false
   },
   "outputs": [
    {
     "data": {
      "text/plain": [
       "18000"
      ]
     },
     "execution_count": 11,
     "metadata": {},
     "output_type": "execute_result"
    }
   ],
   "source": [
    "rectangle.area()"
   ]
  },
  {
   "cell_type": "code",
   "execution_count": 12,
   "metadata": {
    "collapsed": true
   },
   "outputs": [],
   "source": [
    "# here rectangle is an instance of the shape class\n",
    "square = Shape(50,50)"
   ]
  },
  {
   "cell_type": "code",
   "execution_count": 13,
   "metadata": {
    "collapsed": false
   },
   "outputs": [
    {
     "data": {
      "text/plain": [
       "15500"
      ]
     },
     "execution_count": 13,
     "metadata": {},
     "output_type": "execute_result"
    }
   ],
   "source": [
    "rectangle.area()-square.area()"
   ]
  },
  {
   "cell_type": "code",
   "execution_count": null,
   "metadata": {
    "collapsed": true
   },
   "outputs": [],
   "source": [
    "\"\"\"a variable inside a class is known as an Attribute\n",
    "a function inside a class is known as a method.\n",
    "a class is known as a 'data structure' - it holds data, \n",
    "and the methods to process that data.\"\"\"\n",
    "\n",
    "\"\"\"We can create any number of instances of that class, \n",
    "so that we don't have to write new code for every new object we create. \n",
    "But what about adding extra features to our golf club design? \n",
    "This is where inheritance comes into play.\n",
    "\n",
    "Python makes inheritance really easy. We define a new class, based on another,\n",
    "'parent' class. Our new class brings everything over from the parent, and we \n",
    "can also add other things to it. If any new attributes or methods have the same \n",
    "name as an attribute or method in our parent class, it is used instead of the parent one\"\"\""
   ]
  },
  {
   "cell_type": "code",
   "execution_count": 19,
   "metadata": {
    "collapsed": true
   },
   "outputs": [],
   "source": [
    "import scipy\n",
    "class circle(Shape):\n",
    "    def __init__(self,x):\n",
    "        self.x = x\n",
    "    def area(self):\n",
    "        return scipy.pi* self.x * self.x\n",
    "\n",
    "    def perimeter(self):\n",
    "        return 2 * self.x * scipy.pi"
   ]
  },
  {
   "cell_type": "code",
   "execution_count": 20,
   "metadata": {
    "collapsed": false
   },
   "outputs": [
    {
     "data": {
      "text/plain": [
       "314.1592653589793"
      ]
     },
     "execution_count": 20,
     "metadata": {},
     "output_type": "execute_result"
    }
   ],
   "source": [
    "aa = circle(10)\n",
    "aa.area()"
   ]
  },
  {
   "cell_type": "code",
   "execution_count": null,
   "metadata": {
    "collapsed": true
   },
   "outputs": [],
   "source": []
  }
 ],
 "metadata": {
  "kernelspec": {
   "display_name": "Python 2",
   "language": "python",
   "name": "python2"
  },
  "language_info": {
   "codemirror_mode": {
    "name": "ipython",
    "version": 2
   },
   "file_extension": ".py",
   "mimetype": "text/x-python",
   "name": "python",
   "nbconvert_exporter": "python",
   "pygments_lexer": "ipython2",
   "version": "2.7.10"
  }
 },
 "nbformat": 4,
 "nbformat_minor": 0
}
