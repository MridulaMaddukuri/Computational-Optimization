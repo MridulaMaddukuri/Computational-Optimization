{
 "cells": [
  {
   "cell_type": "markdown",
   "metadata": {},
   "source": [
    "Read the scipy/numpy documentation to help you create an array of 20 rows, where each row counts from 0 to 19. You can think of these as holding the X coordinate of the corresponding matrix entry.\n"
   ]
  },
  {
   "cell_type": "code",
   "execution_count": 2,
   "metadata": {
    "collapsed": true
   },
   "outputs": [],
   "source": [
    "import scipy\n",
    "# import numpy : no need to import since scipy automatically imports \n",
    "import matplotlib\n",
    "import pylab"
   ]
  },
  {
   "cell_type": "code",
   "execution_count": 4,
   "metadata": {
    "collapsed": false
   },
   "outputs": [],
   "source": [
    "# function that takes in the array length and reference point coordinates as input arguments\n",
    "def return_X_Y_Val(a=0,b=0):\n",
    "    X_coordinate = scipy.arange(20)\n",
    "    X = scipy.tile(X_coordinate,(20,1))\n",
    "    Y = X.T.copy() \n",
    "    Val = ((X-a)**2+(Y-b)**2)**0.5\n",
    "    return Val\n",
    "\n",
    "# Y1,X1 = scipy.mgrid[0:20,0:20] Not really what i wanted\n",
    "\n",
    "points_ref = [(0, 0), (5, 5), (19, 19), (19, 0), (0, 19)]\n",
    "\n",
    "# ned's comments\n",
    "# can even write a class / code without a for loop\n",
    "# scipy boradcasting\n",
    "def GiveMin(A=[]):\n",
    "    Distances = []\n",
    "    for i,j in points_ref:\n",
    "        c = return_X_Y_Val(i,j)\n",
    "        Distances.append(c)\n",
    "    Min = scipy.minimum.reduce(Distances) # worst of memory and time. improve this\n",
    "    return Min\n",
    "    \n",
    "\n",
    "Minn = GiveMin(points_ref)\n",
    "    \n",
    "\n",
    "    "
   ]
  },
  {
   "cell_type": "code",
   "execution_count": null,
   "metadata": {
    "collapsed": false
   },
   "outputs": [],
   "source": []
  },
  {
   "cell_type": "code",
   "execution_count": 61,
   "metadata": {
    "collapsed": false
   },
   "outputs": [],
   "source": [
    "def plotNow(D,i,j):\n",
    "    %matplotlib inline\n",
    "    # matplotlib.org\n",
    "    import matplotlib.pyplot as plt\n",
    "    cmap_options = [None,'hot','hot_r']\n",
    "    interpolation_options = [None,'nearest']\n",
    "    pylab.imshow(D,cmap = cmap_options[i],interpolation = interpolation_options[j])\n",
    "    plt.colorbar()\n",
    "    plt.xlabel('X coord')\n",
    "    plt.ylabel('Y coord')\n",
    "    plt.title('Distance to Closest Point')\n",
    "    plt.savefig('testplot.pdf')\n",
    "    \n"
   ]
  },
  {
   "cell_type": "code",
   "execution_count": 66,
   "metadata": {
    "collapsed": false
   },
   "outputs": [
    {
     "data": {
      "image/png": "[encoded data removed]",
      "text/plain": [
       "<matplotlib.figure.Figure at 0x108ed0310>"
      ]
     },
     "metadata": {},
     "output_type": "display_data"
    }
   ],
   "source": [
    "#1.a\n",
    "#plotNow(return_X_Y_Val(0,0),0,0)\n",
    "#1.b\n",
    "#plotNow(return_X_Y_Val(0,0),0,1)\n",
    "#1.c\n",
    "#plotNow(return_X_Y_Val(5,5),0,1)\n",
    "#1.d\n",
    "#plotNow(return_X_Y_Val(5,5),2,0)\n",
    "#1.e\n",
    "#plotNow(Minn,2,0)\n",
    "#1.f\n",
    "plotNow(Minn,2,1) \n"
   ]
  },
  {
   "cell_type": "code",
   "execution_count": null,
   "metadata": {
    "collapsed": false
   },
   "outputs": [],
   "source": []
  },
  {
   "cell_type": "code",
   "execution_count": null,
   "metadata": {
    "collapsed": true
   },
   "outputs": [],
   "source": []
  }
 ],
 "metadata": {
  "kernelspec": {
   "display_name": "Python 2",
   "language": "python",
   "name": "python2"
  },
  "language_info": {
   "codemirror_mode": {
    "name": "ipython",
    "version": 2
   },
   "file_extension": ".py",
   "mimetype": "text/x-python",
   "name": "python",
   "nbconvert_exporter": "python",
   "pygments_lexer": "ipython2",
   "version": "2.7.10"
  }
 },
 "nbformat": 4,
 "nbformat_minor": 0
}
